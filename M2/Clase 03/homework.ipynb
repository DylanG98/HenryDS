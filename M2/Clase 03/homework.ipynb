{
 "cells": [
  {
   "cell_type": "code",
   "execution_count": 5,
   "metadata": {},
   "outputs": [
    {
     "name": "stdout",
     "output_type": "stream",
     "text": [
      "El resultado de 1A es :  0.6666666666666667 \n",
      "El resultado de 1B es :  0.8 \n",
      "No son independientes porque P(A)*P(B) =! P(AyB) \n"
     ]
    }
   ],
   "source": [
    "'''\n",
    "\n",
    "1. Suponga dos eventos, A y B, y que P(A) = 0.50, P(B) = 0.60 y P(A ∩ B) = 0.40.<br>\n",
    "- a. Halle P(A | B).\n",
    "- b. Halle P(B | A).\n",
    "- c. ¿A y B son independientes? ¿Por qué sí o por qué no?\n",
    "\n",
    "\n",
    "'''\n",
    "\n",
    "def ej1():\n",
    "\n",
    "    pa= 0.5\n",
    "    pb= 0.6\n",
    "    pnb= 0.4\n",
    "\n",
    "    padadob = pnb / pb\n",
    "\n",
    "    pbdadoa = pnb / pa\n",
    "\n",
    "    return print('El resultado de 1A es : ', padadob, \"\\nEl resultado de 1B es : \", pbdadoa, '\\nNo son independientes porque P(A)*P(B) =! P(AyB) ')\n",
    "\n",
    "\n",
    "#ej1()\n",
    "\n",
    "\n",
    "\n",
    "\n",
    "\n"
   ]
  },
  {
   "cell_type": "code",
   "execution_count": 13,
   "metadata": {},
   "outputs": [
    {
     "name": "stdout",
     "output_type": "stream",
     "text": [
      "1A : No existe intersección dado qué son mutuamente excluyentes  \n",
      "1B : Lo mismo ocurre uno no puede suceder si el otro sucede \n",
      "1C : Esá mal argumenrtado porque que sean independientes significa que pueden ocurrir en el mismo momento sin afectar el resultado de uno en el orto, el echo de ser excluyente hace que uno no pueda suceder si el otro lo hace\n"
     ]
    }
   ],
   "source": [
    "'''2. Suponga dos eventos, A y B, que son mutuamente excluyentes. Admita, además, que P(A) = 0.30 \n",
    "y P(B) = 0.40.<br>\n",
    "- a. Obtenga P(A ∩ B). ¿Existe intersección entre los dos conjuntos?.\n",
    "- b. Calcule P(A | B).\n",
    "- c. Un estudiante de estadística argumenta que los conceptos de eventos mutuamente excluyentes \n",
    "y eventos independientes son en realidad lo mismo y que si los eventos son mutuamente excluyentes \n",
    "deben ser también independientes. ¿Está usted de acuerdo? Use la información sobre las probabilidades \n",
    "para justificar su respuesta.\n",
    "\n",
    "\n",
    "'''\n",
    "def ej2():\n",
    "\n",
    "    pa= 0.3\n",
    "    pb= 0.4\n",
    "\n",
    "    pnb = 0\n",
    "\n",
    "    padadob= pnb / pb\n",
    "\n",
    "    return print('1A : No existe intersección dado qué son mutuamente excluyentes ' ,'\\n1B : Lo mismo ocurre uno no puede suceder si el otro sucede','\\n1C : Esá mal argumenrtado porque que sean independientes significa que pueden ocurrir en el mismo momento sin afectar el resultado de uno en el orto, el echo de ser excluyente hace que uno no pueda suceder si el otro lo hace')\n",
    "\n",
    "ej2()\n"
   ]
  },
  {
   "cell_type": "code",
   "execution_count": null,
   "metadata": {},
   "outputs": [],
   "source": []
  }
 ],
 "metadata": {
  "kernelspec": {
   "display_name": "Python 3.9.12 ('base')",
   "language": "python",
   "name": "python3"
  },
  "language_info": {
   "codemirror_mode": {
    "name": "ipython",
    "version": 3
   },
   "file_extension": ".py",
   "mimetype": "text/x-python",
   "name": "python",
   "nbconvert_exporter": "python",
   "pygments_lexer": "ipython3",
   "version": "3.9.12"
  },
  "orig_nbformat": 4,
  "vscode": {
   "interpreter": {
    "hash": "98b921049c439807c081d6616d9731da5920d3b6edca6190edeae5a80cc907f5"
   }
  }
 },
 "nbformat": 4,
 "nbformat_minor": 2
}
