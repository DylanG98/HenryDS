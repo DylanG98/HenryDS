{
 "cells": [
  {
   "cell_type": "code",
   "execution_count": 62,
   "metadata": {},
   "outputs": [],
   "source": [
    "import numpy as np # importando numpy\n",
    "from scipy import stats # importando scipy.stats\n",
    "import pandas as pd #importando pandas\n",
    "import matplotlib.pyplot as plt # importando matplotlib\n",
    "import seaborn as sns # importando seaborn\n",
    "import math"
   ]
  },
  {
   "cell_type": "code",
   "execution_count": 59,
   "metadata": {},
   "outputs": [],
   "source": [
    "muestra = np.array( [[1.85, 1.8, 1.8 , 1.8],\n",
    "                    [1.73,  1.7, 1.75, 1.76],\n",
    "                    [ 1.65, 1.69,  1.67 ,  1.6],\n",
    "                    [1.54,  1.57, 1.58, 1.59],\n",
    "                    [ 1.4 , 1.42,  1.45, 1.48],\n",
    "                    ]) "
   ]
  },
  {
   "cell_type": "code",
   "execution_count": null,
   "metadata": {},
   "outputs": [],
   "source": [
    "''' \n",
    "- Media.\n",
    "- Mediana.\n",
    "- Moda\n",
    "- Varianza\n",
    "- Desvío estándar. '''\n"
   ]
  },
  {
   "cell_type": "code",
   "execution_count": 11,
   "metadata": {},
   "outputs": [
    {
     "data": {
      "text/plain": [
       "1.6415"
      ]
     },
     "execution_count": 11,
     "metadata": {},
     "output_type": "execute_result"
    }
   ],
   "source": [
    "##### MEDIA \n",
    "\n",
    "def media(muestra):\n",
    "    '''\n",
    "    Esta funcion se encarga de sacar la media de cualquier arreglo de numpy;\n",
    "    '''\n",
    "\n",
    "    alto_arreglo = len(muestra)\n",
    "    ancho_arreglo = len(muestra[0])\n",
    "   \n",
    "\n",
    "\n",
    "    cant_values = ancho_arreglo * alto_arreglo\n",
    "    sumatoria = 0\n",
    "\n",
    "    for i in range(len(muestra)):\n",
    "        for g in muestra[i]:\n",
    "            sumatoria += g\n",
    "\n",
    "    return sumatoria/cant_values\n",
    "\n",
    "media(muestra)\n"
   ]
  },
  {
   "cell_type": "code",
   "execution_count": null,
   "metadata": {},
   "outputs": [],
   "source": []
  },
  {
   "cell_type": "code",
   "execution_count": 28,
   "metadata": {},
   "outputs": [
    {
     "name": "stdout",
     "output_type": "stream",
     "text": [
      "20\n"
     ]
    },
    {
     "data": {
      "text/plain": [
       "1.66"
      ]
     },
     "execution_count": 28,
     "metadata": {},
     "output_type": "execute_result"
    }
   ],
   "source": [
    "### MEDIANA\n",
    "                    \n",
    "def mediana (muestra):\n",
    "\n",
    "    alto_arreglo = len(muestra)\n",
    "    ancho_arreglo = len(muestra[0])\n",
    "\n",
    "    cant_values = ancho_arreglo * alto_arreglo\n",
    "\n",
    "    lista = []\n",
    "\n",
    "    for i in range(len(muestra)):\n",
    "        for g in muestra[i]:\n",
    "            lista.append(g)\n",
    "\n",
    "    lista.sort()\n",
    "\n",
    "    \n",
    "\n",
    "    if len(lista)%2 == 1:\n",
    "\n",
    "        posicion = lista[(len(lista)+1)/2]\n",
    "\n",
    "        return posicion\n",
    "\n",
    "    else:\n",
    "\n",
    "        pos1= lista[int(len(lista)/2) - 1]\n",
    "        pos2= lista[int(len(lista)/2)]\n",
    "\n",
    "        return (pos1+pos2)/2\n",
    "    \n",
    "mediana(muestra)\n"
   ]
  },
  {
   "cell_type": "code",
   "execution_count": 54,
   "metadata": {},
   "outputs": [
    {
     "name": "stdout",
     "output_type": "stream",
     "text": [
      "Moda:  [1.6, 1.8]\n"
     ]
    }
   ],
   "source": [
    "### MODA\n",
    "\n",
    "\n",
    "def moda(muestra):\n",
    "\n",
    "    alto_arreglo = len(muestra)\n",
    "    ancho_arreglo = len(muestra[0])\n",
    "\n",
    "    cant_values = ancho_arreglo * alto_arreglo\n",
    "\n",
    "    lista = []\n",
    "\n",
    "    for i in range(len(muestra)):  ### aplanamiento \n",
    "        for g in muestra[i]:\n",
    "            lista.append(g)\n",
    "\n",
    "    lista.sort()\n",
    "\n",
    "       \n",
    "    repe = 0\n",
    "\n",
    "    for i in lista:\n",
    "\n",
    "        n= lista.count(i) ### lee la cant de veces que se repite el elemento\n",
    "\n",
    "        if n > repe:\n",
    "\n",
    "            repe = n  ### me asegura que es num que se repita y el qué más, me devuelve la cant de repe\n",
    "\n",
    "    moda = []   ## abro la lista de la moda\n",
    "\n",
    "    for i in lista :\n",
    "        n = lista.count(i)\n",
    "\n",
    "        if n == repe and i not in moda: ##acá busca encontrar el/los num que le dije que se repite más\n",
    "\n",
    "            moda.append(i)\n",
    "\n",
    "    if len(moda) != len(lista):  ##descarta la posibilidad de que no haya numeros repetidos\n",
    "        print ('Moda: ', moda)\n",
    "    else:\n",
    "        print ('No hay moda')\n",
    "\n",
    "moda(muestra)\n",
    "\n",
    "\n",
    "\n",
    "\n",
    "\n"
   ]
  },
  {
   "cell_type": "code",
   "execution_count": 60,
   "metadata": {},
   "outputs": [
    {
     "data": {
      "text/plain": [
       "0.017642750000000006"
      ]
     },
     "execution_count": 60,
     "metadata": {},
     "output_type": "execute_result"
    }
   ],
   "source": [
    "def varianza(muestra):\n",
    "    '''\n",
    "    Esta funcion se encarga de sacar la varianza de cualquier arreglo de numpy;\n",
    "    '''\n",
    "\n",
    "    alto_arreglo = len(muestra)\n",
    "    ancho_arreglo = len(muestra[0])\n",
    "   \n",
    "\n",
    "\n",
    "    cant_values = ancho_arreglo * alto_arreglo\n",
    "    sumatoria = 0\n",
    "    lista = []\n",
    "    for i in range(len(muestra)):\n",
    "        for g in muestra[i]:\n",
    "            sumatoria += g\n",
    "            lista.append(g)\n",
    "\n",
    "   \n",
    "   \n",
    "    media = sumatoria/cant_values\n",
    "    lista.sort()\n",
    "\n",
    "    aux = 0\n",
    "\n",
    "    for i in lista:\n",
    "        aux += (i-media)**2\n",
    "\n",
    "    varianza = aux/cant_values\n",
    "\n",
    "    return varianza\n",
    "\n"
   ]
  },
  {
   "cell_type": "code",
   "execution_count": 70,
   "metadata": {},
   "outputs": [
    {
     "data": {
      "text/plain": [
       "0.9485194767348428"
      ]
     },
     "execution_count": 70,
     "metadata": {},
     "output_type": "execute_result"
    }
   ],
   "source": [
    "def desvio_Estandar (muestra):\n",
    "\n",
    "    alto_arreglo = len(muestra)\n",
    "    ancho_arreglo = len(muestra[0])\n",
    "   \n",
    "\n",
    "\n",
    "    cant_values = ancho_arreglo * alto_arreglo\n",
    "    sumatoria = 0\n",
    "    lista = []\n",
    "    for i in range(len(muestra)):\n",
    "        for g in muestra[i]:\n",
    "            sumatoria += g\n",
    "            lista.append(g)\n",
    "\n",
    "   \n",
    "   \n",
    "    media = sumatoria/cant_values\n",
    "    lista.sort()\n",
    "\n",
    "    aux = 0\n",
    "\n",
    "    for i in lista:\n",
    "        aux += (i-media)**2\n",
    "\n",
    "    varianza = aux/cant_values\n",
    "\n",
    "    desvio = varianza**(1/cant_values)\n",
    "\n",
    "    return desvio\n",
    "\n",
    "desvio_Estandar(muestra) "
   ]
  },
  {
   "cell_type": "code",
   "execution_count": 71,
   "metadata": {},
   "outputs": [
    {
     "name": "stdout",
     "output_type": "stream",
     "text": [
      "0.13282601401833907\n"
     ]
    }
   ],
   "source": [
    "print(np.std(muestra))\n"
   ]
  }
 ],
 "metadata": {
  "kernelspec": {
   "display_name": "Python 3.10.4 64-bit",
   "language": "python",
   "name": "python3"
  },
  "language_info": {
   "codemirror_mode": {
    "name": "ipython",
    "version": 3
   },
   "file_extension": ".py",
   "mimetype": "text/x-python",
   "name": "python",
   "nbconvert_exporter": "python",
   "pygments_lexer": "ipython3",
   "version": "3.10.4"
  },
  "orig_nbformat": 4,
  "vscode": {
   "interpreter": {
    "hash": "e6104bf604ca1a37923b4f279a3bc03307071c215727ed52dcf746e90ba65021"
   }
  }
 },
 "nbformat": 4,
 "nbformat_minor": 2
}
