{
 "cells": [
  {
   "cell_type": "code",
   "execution_count": 73,
   "metadata": {},
   "outputs": [],
   "source": [
    "import numpy as np # importando numpy\n",
    "from scipy import stats # importando scipy.stats\n",
    "import pandas as pd #importando pandas\n",
    "import matplotlib.pyplot as plt # importando matplotlib\n",
    "import seaborn as sns # importando seaborn\n",
    "import math"
   ]
  },
  {
   "cell_type": "code",
   "execution_count": 74,
   "metadata": {},
   "outputs": [],
   "source": [
    "muestra = np.array( [[1.85, 1.8, 1.8 , 1.8],\n",
    "                    [1.73,  1.7, 1.75, 1.76],\n",
    "                    [ 1.65, 1.69,  1.67 ,  1.6],\n",
    "                    [1.54,  1.57, 1.58, 1.59],\n",
    "                    [ 1.4 , 1.42,  1.45, 1.48],\n",
    "                    ]) "
   ]
  },
  {
   "cell_type": "code",
   "execution_count": 75,
   "metadata": {},
   "outputs": [
    {
     "data": {
      "text/plain": [
       "' \\n- Media.\\n- Mediana.\\n- Moda\\n- Varianza\\n- Desvío estándar. '"
      ]
     },
     "execution_count": 75,
     "metadata": {},
     "output_type": "execute_result"
    }
   ],
   "source": [
    "''' \n",
    "- Media.\n",
    "- Mediana.\n",
    "- Moda\n",
    "- Varianza\n",
    "- Desvío estándar. '''\n"
   ]
  },
  {
   "cell_type": "code",
   "execution_count": 76,
   "metadata": {},
   "outputs": [
    {
     "data": {
      "text/plain": [
       "1.6415"
      ]
     },
     "execution_count": 76,
     "metadata": {},
     "output_type": "execute_result"
    }
   ],
   "source": [
    "##### MEDIA \n",
    "\n",
    "def media(muestra):\n",
    "    '''\n",
    "    Esta funcion se encarga de sacar la media de cualquier arreglo de numpy;\n",
    "    '''\n",
    "\n",
    "    alto_arreglo = len(muestra)\n",
    "    ancho_arreglo = len(muestra[0])\n",
    "   \n",
    "\n",
    "\n",
    "    cant_values = ancho_arreglo * alto_arreglo\n",
    "    sumatoria = 0\n",
    "\n",
    "    for i in range(len(muestra)):\n",
    "        for g in muestra[i]:\n",
    "            sumatoria += g\n",
    "\n",
    "    return sumatoria/cant_values\n",
    "\n",
    "media(muestra)\n"
   ]
  },
  {
   "cell_type": "code",
   "execution_count": null,
   "metadata": {},
   "outputs": [],
   "source": []
  },
  {
   "cell_type": "code",
   "execution_count": 117,
   "metadata": {},
   "outputs": [
    {
     "data": {
      "text/plain": [
       "1.66"
      ]
     },
     "execution_count": 117,
     "metadata": {},
     "output_type": "execute_result"
    }
   ],
   "source": [
    "### MEDIANA\n",
    "                    \n",
    "def mediana (muestra):\n",
    "\n",
    "    alto_arreglo = len(muestra)\n",
    "    ancho_arreglo = len(muestra[0])\n",
    "\n",
    "    cant_values = ancho_arreglo * alto_arreglo\n",
    "\n",
    "    lista = []\n",
    "\n",
    "    for i in range(len(muestra)):\n",
    "        for g in muestra[i]:\n",
    "            lista.append(g)\n",
    "\n",
    "    lista.sort()\n",
    "\n",
    "    \n",
    "\n",
    "    if len(lista)%2 == 1:\n",
    "\n",
    "        posicion = lista[(len(lista)+1)/2]\n",
    "\n",
    "        return posicion\n",
    "\n",
    "    else:\n",
    "\n",
    "        pos1= lista[int(len(lista)/2) - 1]\n",
    "        pos2= lista[int(len(lista)/2)]\n",
    "\n",
    "        return (pos1+pos2)/2\n",
    "    \n",
    "mediana(muestra)\n"
   ]
  },
  {
   "cell_type": "code",
   "execution_count": 78,
   "metadata": {},
   "outputs": [
    {
     "name": "stdout",
     "output_type": "stream",
     "text": [
      "Moda:  [1.8]\n"
     ]
    }
   ],
   "source": [
    "### MODA\n",
    "\n",
    "\n",
    "def moda(muestra):\n",
    "\n",
    "    alto_arreglo = len(muestra)\n",
    "    ancho_arreglo = len(muestra[0])\n",
    "\n",
    "    cant_values = ancho_arreglo * alto_arreglo\n",
    "\n",
    "    lista = []\n",
    "\n",
    "    for i in range(len(muestra)):  ### aplanamiento \n",
    "        for g in muestra[i]:\n",
    "            lista.append(g)\n",
    "\n",
    "    lista.sort()\n",
    "\n",
    "       \n",
    "    repe = 0\n",
    "\n",
    "    for i in lista:\n",
    "\n",
    "        n= lista.count(i) ### lee la cant de veces que se repite el elemento\n",
    "\n",
    "        if n > repe:\n",
    "\n",
    "            repe = n  ### me asegura que es num que se repita y el qué más, me devuelve la cant de repe\n",
    "\n",
    "    moda = []   ## abro la lista de la moda\n",
    "\n",
    "    for i in lista :\n",
    "        n = lista.count(i)\n",
    "\n",
    "        if n == repe and i not in moda: ##acá busca encontrar el/los num que le dije que se repite más\n",
    "\n",
    "            moda.append(i)\n",
    "\n",
    "    if len(moda) != len(lista):  ##descarta la posibilidad de que no haya numeros repetidos\n",
    "        print ('Moda: ', moda)\n",
    "    else:\n",
    "        print ('No hay moda')\n",
    "\n",
    "moda(muestra)\n",
    "\n",
    "\n",
    "\n",
    "\n",
    "\n"
   ]
  },
  {
   "cell_type": "code",
   "execution_count": 79,
   "metadata": {},
   "outputs": [],
   "source": [
    "def varianza(muestra):\n",
    "    '''\n",
    "    Esta funcion se encarga de sacar la varianza de cualquier arreglo de numpy;\n",
    "    '''\n",
    "\n",
    "    alto_arreglo = len(muestra)\n",
    "    ancho_arreglo = len(muestra[0])\n",
    "   \n",
    "\n",
    "\n",
    "    cant_values = ancho_arreglo * alto_arreglo\n",
    "    sumatoria = 0\n",
    "    lista = []\n",
    "    for i in range(len(muestra)):\n",
    "        for g in muestra[i]:\n",
    "            sumatoria += g\n",
    "            lista.append(g)\n",
    "\n",
    "   \n",
    "   \n",
    "    media = sumatoria/cant_values\n",
    "    lista.sort()\n",
    "\n",
    "    aux = 0\n",
    "\n",
    "    for i in lista:\n",
    "        aux += (i-media)**2\n",
    "\n",
    "    varianza = aux/cant_values\n",
    "\n",
    "    return varianza\n",
    "\n"
   ]
  },
  {
   "cell_type": "code",
   "execution_count": 80,
   "metadata": {},
   "outputs": [
    {
     "data": {
      "text/plain": [
       "0.8171999172957296"
      ]
     },
     "execution_count": 80,
     "metadata": {},
     "output_type": "execute_result"
    }
   ],
   "source": [
    "def desvio_Estandar (muestra):\n",
    "\n",
    "    alto_arreglo = len(muestra)\n",
    "    ancho_arreglo = len(muestra[0])\n",
    "   \n",
    "\n",
    "\n",
    "    cant_values = ancho_arreglo * alto_arreglo\n",
    "    sumatoria = 0\n",
    "    lista = []\n",
    "    for i in range(len(muestra)):\n",
    "        for g in muestra[i]:\n",
    "            sumatoria += g\n",
    "            lista.append(g)\n",
    "\n",
    "   \n",
    "   \n",
    "    media = sumatoria/cant_values\n",
    "    lista.sort()\n",
    "\n",
    "    aux = 0\n",
    "\n",
    "    for i in lista:\n",
    "        aux += (i-media)**2\n",
    "\n",
    "    varianza = aux/cant_values\n",
    "\n",
    "    desvio = varianza**(1/cant_values)\n",
    "\n",
    "    return desvio\n",
    "\n",
    "desvio_Estandar(muestra) "
   ]
  },
  {
   "cell_type": "code",
   "execution_count": 81,
   "metadata": {},
   "outputs": [
    {
     "data": {
      "image/png": "[encoded data removed]",
      "text/plain": [
       "<Figure size 640x480 with 1 Axes>"
      ]
     },
     "metadata": {},
     "output_type": "display_data"
    }
   ],
   "source": [
    "muestra = np.array( [[1.85, 1.8, 1.8 , 1.8],\n",
    "                    [1.73,  1.7, 1.75, 1.76],\n",
    "                    [ 1.65, 1.69,  1.67 ,  1.6],\n",
    "                    [1.54,  1.57, 1.58, 1.59],\n",
    "                    [ 1.4 , 1.42,  1.45, 1.48]])\n",
    "\n",
    "alto_arreglo = len(muestra)\n",
    "ancho_arreglo = len(muestra[0])\n",
    "   \n",
    "\n",
    "cant_values = ancho_arreglo * alto_arreglo\n",
    "sumatoria = 0\n",
    "lista = []\n",
    "for i in range(len(muestra)):\n",
    "    for g in muestra[i]:\n",
    "        sumatoria += g\n",
    "        lista.append(g)\n",
    "\n",
    "lista.sort()\n",
    "\n",
    "\n",
    "\n",
    "plt.hist(x=lista, bins = 5, color='Blue', histtype='bar')\n",
    "plt.title('Histograma')\n",
    "plt.xlabel('Lista')\n",
    "plt.ylabel('Frecuencia')\n",
    "\n",
    "plt.show()"
   ]
  },
  {
   "cell_type": "code",
   "execution_count": 82,
   "metadata": {},
   "outputs": [
    {
     "data": {
      "text/plain": [
       "'Tiene una distribucíon sesgada hacia la izquierda, o negativamente sesgada'"
      ]
     },
     "execution_count": 82,
     "metadata": {},
     "output_type": "execute_result"
    }
   ],
   "source": [
    "'''Tiene una distribucíon sesgada hacia la izquierda, o negativamente sesgada'''"
   ]
  },
  {
   "cell_type": "code",
   "execution_count": 133,
   "metadata": {},
   "outputs": [
    {
     "name": "stderr",
     "output_type": "stream",
     "text": [
      "C:\\Users\\usuario\\AppData\\Local\\Temp\\ipykernel_16596\\3758829272.py:15: FutureWarning: Unlike other reduction functions (e.g. `skew`, `kurtosis`), the default behavior of `mode` typically preserves the axis it acts along. In SciPy 1.11.0, this behavior will change: the default value of `keepdims` will become False, the `axis` over which the statistic is taken will be eliminated, and the value None will no longer be accepted. Set `keepdims` to True or False to avoid this warning.\n",
      "  modaing= stats.mode(Ingreso_en_miles)\n",
      "C:\\Users\\usuario\\AppData\\Local\\Temp\\ipykernel_16596\\3758829272.py:16: FutureWarning: Unlike other reduction functions (e.g. `skew`, `kurtosis`), the default behavior of `mode` typically preserves the axis it acts along. In SciPy 1.11.0, this behavior will change: the default value of `keepdims` will become False, the `axis` over which the statistic is taken will be eliminated, and the value None will no longer be accepted. Set `keepdims` to True or False to avoid this warning.\n",
      "  modaaños= stats.mode(Años_de_estudio)\n"
     ]
    },
    {
     "data": {
      "text/html": [
       "<div>\n",
       "<style scoped>\n",
       "    .dataframe tbody tr th:only-of-type {\n",
       "        vertical-align: middle;\n",
       "    }\n",
       "\n",
       "    .dataframe tbody tr th {\n",
       "        vertical-align: top;\n",
       "    }\n",
       "\n",
       "    .dataframe thead th {\n",
       "        text-align: right;\n",
       "    }\n",
       "</style>\n",
       "<table border=\"1\" class=\"dataframe\">\n",
       "  <thead>\n",
       "    <tr style=\"text-align: right;\">\n",
       "      <th></th>\n",
       "      <th>Estadisticas</th>\n",
       "      <th>Ingreso en miles</th>\n",
       "      <th>Años de estudio</th>\n",
       "    </tr>\n",
       "  </thead>\n",
       "  <tbody>\n",
       "    <tr>\n",
       "      <th>0</th>\n",
       "      <td>Media</td>\n",
       "      <td>13.81</td>\n",
       "      <td>17.5</td>\n",
       "    </tr>\n",
       "    <tr>\n",
       "      <th>1</th>\n",
       "      <td>Mediana</td>\n",
       "      <td>11.15</td>\n",
       "      <td>17.5</td>\n",
       "    </tr>\n",
       "    <tr>\n",
       "      <th>2</th>\n",
       "      <td>Moda</td>\n",
       "      <td>([5.9], [1])</td>\n",
       "      <td>([16], [3])</td>\n",
       "    </tr>\n",
       "    <tr>\n",
       "      <th>3</th>\n",
       "      <td>Varianza</td>\n",
       "      <td>47.3309</td>\n",
       "      <td>4.45</td>\n",
       "    </tr>\n",
       "    <tr>\n",
       "      <th>4</th>\n",
       "      <td>Desviacion</td>\n",
       "      <td>6.879746</td>\n",
       "      <td>2.109502</td>\n",
       "    </tr>\n",
       "  </tbody>\n",
       "</table>\n",
       "</div>"
      ],
      "text/plain": [
       "  Estadisticas Ingreso en miles Años de estudio\n",
       "0        Media            13.81            17.5\n",
       "1      Mediana            11.15            17.5\n",
       "2         Moda     ([5.9], [1])     ([16], [3])\n",
       "3     Varianza          47.3309            4.45\n",
       "4   Desviacion         6.879746        2.109502"
      ]
     },
     "execution_count": 133,
     "metadata": {},
     "output_type": "execute_result"
    }
   ],
   "source": [
    "from msilib.schema import Media\n",
    "from struct import pack\n",
    "from estadistica_funciones import estadistica\n",
    "\n",
    "Ingreso_en_miles = np.array([10.5,6.8,20.7,18.2,8.6,25.8,22.2,5.9,7.6,11.8]) \n",
    "Años_de_estudio= np.array([17,18,21,16,16,21,16,14,18,18])\n",
    "estadisticas = ['Media','Mediana','Moda','Varianza','Desviacion']\n",
    "datos = ['Ingreso en miles', 'Años de estudio']\n",
    "\n",
    "flating = Ingreso_en_miles.flatten()\n",
    "flataños = Años_de_estudio.flatten()\n",
    "\n",
    "medianaing = np.median(Ingreso_en_miles)\n",
    "mediaaños= np.median(Años_de_estudio)\n",
    "modaing= stats.mode(Ingreso_en_miles)\n",
    "modaaños= stats.mode(Años_de_estudio)\n",
    "varing= np.var(Ingreso_en_miles)\n",
    "varaños = np.var(Años_de_estudio)\n",
    "stding = np.std(Ingreso_en_miles)\n",
    "stdaño = np.std(Años_de_estudio)\n",
    "datos_ingreso = [flating.mean(),medianaing,modaing,varing,stding]\n",
    "datos_años = [flataños.mean(), mediaaños,modaaños,varaños,stdaño]\n",
    "\n",
    "df1 = pd.DataFrame()\n",
    "df1['Estadisticas'] = estadisticas\n",
    "df1['Ingreso en miles'] = datos_ingreso\n",
    "df1['Años de estudio'] = datos_años\n",
    "df1\n",
    "\n",
    "\n",
    "\n",
    "\n",
    "\n"
   ]
  },
  {
   "cell_type": "code",
   "execution_count": 141,
   "metadata": {},
   "outputs": [
    {
     "data": {
      "image/png": "[encoded data removed]",
      "text/plain": [
       "<Figure size 640x480 with 1 Axes>"
      ]
     },
     "metadata": {},
     "output_type": "display_data"
    }
   ],
   "source": [
    "fig, ax = plt.subplots()\n",
    "ax.hist(Ingreso_en_miles, bins=6, edgecolor='red', color='red', alpha=0.3)\n",
    "ax.hist(Años_de_estudio, bins=6, edgecolor='blue', color='blue', alpha=0.3)\n",
    "ax.set_title(\"Histogram\")\n",
    "\n",
    "plt.show()"
   ]
  }
 ],
 "metadata": {
  "kernelspec": {
   "display_name": "Python 3.10.4 64-bit",
   "language": "python",
   "name": "python3"
  },
  "language_info": {
   "codemirror_mode": {
    "name": "ipython",
    "version": 3
   },
   "file_extension": ".py",
   "mimetype": "text/x-python",
   "name": "python",
   "nbconvert_exporter": "python",
   "pygments_lexer": "ipython3",
   "version": "3.10.4"
  },
  "orig_nbformat": 4,
  "vscode": {
   "interpreter": {
    "hash": "e6104bf604ca1a37923b4f279a3bc03307071c215727ed52dcf746e90ba65021"
   }
  }
 },
 "nbformat": 4,
 "nbformat_minor": 2
}
