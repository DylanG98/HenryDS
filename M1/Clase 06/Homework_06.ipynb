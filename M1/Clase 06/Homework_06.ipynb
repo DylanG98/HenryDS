{
 "cells": [
  {
   "cell_type": "markdown",
   "metadata": {},
   "source": [
    "# Práctica Clase 6"
   ]
  },
  {
   "cell_type": "markdown",
   "metadata": {},
   "source": [
    "1) Cargar el dataset \"Emisiones_CO2.csv\" provisto en la clase 2 en un Dataframe de Pandas, quitar los registros que contengan valores faltantes e implementar una nueva columna, que contenga el resultado de una función Hash aplicada sobre el campo \"Código de País\" y se denomine \"Clave_Hash\".<br>\n",
    "Consideraciones: Se puede utilizar la función provista.\n"
   ]
  },
  {
   "cell_type": "code",
   "execution_count": 5,
   "metadata": {},
   "outputs": [],
   "source": [
    "def hash_function(key):\n",
    "    return sum(index * ord(character) for index, character in enumerate(repr(key), start=1))"
   ]
  },
  {
   "cell_type": "code",
   "execution_count": 6,
   "metadata": {},
   "outputs": [
    {
     "name": "stdout",
     "output_type": "stream",
     "text": [
      "1877\n",
      "9276\n"
     ]
    }
   ],
   "source": [
    "print(hash_function('psss'))\n",
    "print(hash_function('matwwisssto'))"
   ]
  },
  {
   "cell_type": "code",
   "execution_count": 7,
   "metadata": {},
   "outputs": [],
   "source": [
    "import pandas as pd"
   ]
  },
  {
   "cell_type": "code",
   "execution_count": 8,
   "metadata": {},
   "outputs": [
    {
     "name": "stdout",
     "output_type": "stream",
     "text": [
      "(11127, 6)\n",
      "Index(['Código de país', 'Nombre del país', 'Región', 'Año', 'CO2 (kt)',\n",
      "       'CO2 per cápita (toneladas métricas)'],\n",
      "      dtype='object')\n"
     ]
    }
   ],
   "source": [
    "df = pd.read_csv('Emisiones_CO2.csv',sep='|',decimal=',', encoding='latin-1')\n",
    "\n",
    "print(df.shape)\n",
    "print(df.columns)"
   ]
  },
  {
   "cell_type": "code",
   "execution_count": 9,
   "metadata": {},
   "outputs": [
    {
     "data": {
      "text/html": [
       "<div>\n",
       "<style scoped>\n",
       "    .dataframe tbody tr th:only-of-type {\n",
       "        vertical-align: middle;\n",
       "    }\n",
       "\n",
       "    .dataframe tbody tr th {\n",
       "        vertical-align: top;\n",
       "    }\n",
       "\n",
       "    .dataframe thead th {\n",
       "        text-align: right;\n",
       "    }\n",
       "</style>\n",
       "<table border=\"1\" class=\"dataframe\">\n",
       "  <thead>\n",
       "    <tr style=\"text-align: right;\">\n",
       "      <th></th>\n",
       "      <th>Código de país</th>\n",
       "      <th>Nombre del país</th>\n",
       "      <th>Región</th>\n",
       "      <th>Año</th>\n",
       "      <th>CO2 (kt)</th>\n",
       "      <th>CO2 per cápita (toneladas métricas)</th>\n",
       "    </tr>\n",
       "  </thead>\n",
       "  <tbody>\n",
       "    <tr>\n",
       "      <th>0</th>\n",
       "      <td>ABW</td>\n",
       "      <td>Aruba</td>\n",
       "      <td>América Latina y Caribe</td>\n",
       "      <td>1960</td>\n",
       "      <td>NaN</td>\n",
       "      <td>NaN</td>\n",
       "    </tr>\n",
       "    <tr>\n",
       "      <th>1</th>\n",
       "      <td>ABW</td>\n",
       "      <td>Aruba</td>\n",
       "      <td>América Latina y Caribe</td>\n",
       "      <td>1961</td>\n",
       "      <td>NaN</td>\n",
       "      <td>NaN</td>\n",
       "    </tr>\n",
       "    <tr>\n",
       "      <th>2</th>\n",
       "      <td>ABW</td>\n",
       "      <td>Aruba</td>\n",
       "      <td>América Latina y Caribe</td>\n",
       "      <td>1962</td>\n",
       "      <td>NaN</td>\n",
       "      <td>NaN</td>\n",
       "    </tr>\n",
       "    <tr>\n",
       "      <th>3</th>\n",
       "      <td>ABW</td>\n",
       "      <td>Aruba</td>\n",
       "      <td>América Latina y Caribe</td>\n",
       "      <td>1963</td>\n",
       "      <td>NaN</td>\n",
       "      <td>NaN</td>\n",
       "    </tr>\n",
       "    <tr>\n",
       "      <th>4</th>\n",
       "      <td>ABW</td>\n",
       "      <td>Aruba</td>\n",
       "      <td>América Latina y Caribe</td>\n",
       "      <td>1964</td>\n",
       "      <td>NaN</td>\n",
       "      <td>NaN</td>\n",
       "    </tr>\n",
       "    <tr>\n",
       "      <th>5</th>\n",
       "      <td>ABW</td>\n",
       "      <td>Aruba</td>\n",
       "      <td>América Latina y Caribe</td>\n",
       "      <td>1965</td>\n",
       "      <td>NaN</td>\n",
       "      <td>NaN</td>\n",
       "    </tr>\n",
       "    <tr>\n",
       "      <th>6</th>\n",
       "      <td>ABW</td>\n",
       "      <td>Aruba</td>\n",
       "      <td>América Latina y Caribe</td>\n",
       "      <td>1966</td>\n",
       "      <td>NaN</td>\n",
       "      <td>NaN</td>\n",
       "    </tr>\n",
       "    <tr>\n",
       "      <th>7</th>\n",
       "      <td>ABW</td>\n",
       "      <td>Aruba</td>\n",
       "      <td>América Latina y Caribe</td>\n",
       "      <td>1967</td>\n",
       "      <td>NaN</td>\n",
       "      <td>NaN</td>\n",
       "    </tr>\n",
       "    <tr>\n",
       "      <th>8</th>\n",
       "      <td>ABW</td>\n",
       "      <td>Aruba</td>\n",
       "      <td>América Latina y Caribe</td>\n",
       "      <td>1968</td>\n",
       "      <td>NaN</td>\n",
       "      <td>NaN</td>\n",
       "    </tr>\n",
       "    <tr>\n",
       "      <th>9</th>\n",
       "      <td>ABW</td>\n",
       "      <td>Aruba</td>\n",
       "      <td>América Latina y Caribe</td>\n",
       "      <td>1969</td>\n",
       "      <td>NaN</td>\n",
       "      <td>NaN</td>\n",
       "    </tr>\n",
       "  </tbody>\n",
       "</table>\n",
       "</div>"
      ],
      "text/plain": [
       "  Código de país Nombre del país                   Región   Año CO2 (kt)  \\\n",
       "0            ABW           Aruba  América Latina y Caribe  1960      NaN   \n",
       "1            ABW           Aruba  América Latina y Caribe  1961      NaN   \n",
       "2            ABW           Aruba  América Latina y Caribe  1962      NaN   \n",
       "3            ABW           Aruba  América Latina y Caribe  1963      NaN   \n",
       "4            ABW           Aruba  América Latina y Caribe  1964      NaN   \n",
       "5            ABW           Aruba  América Latina y Caribe  1965      NaN   \n",
       "6            ABW           Aruba  América Latina y Caribe  1966      NaN   \n",
       "7            ABW           Aruba  América Latina y Caribe  1967      NaN   \n",
       "8            ABW           Aruba  América Latina y Caribe  1968      NaN   \n",
       "9            ABW           Aruba  América Latina y Caribe  1969      NaN   \n",
       "\n",
       "   CO2 per cápita (toneladas métricas)  \n",
       "0                                  NaN  \n",
       "1                                  NaN  \n",
       "2                                  NaN  \n",
       "3                                  NaN  \n",
       "4                                  NaN  \n",
       "5                                  NaN  \n",
       "6                                  NaN  \n",
       "7                                  NaN  \n",
       "8                                  NaN  \n",
       "9                                  NaN  "
      ]
     },
     "execution_count": 9,
     "metadata": {},
     "output_type": "execute_result"
    }
   ],
   "source": [
    "df.head(10)"
   ]
  },
  {
   "cell_type": "code",
   "execution_count": 10,
   "metadata": {},
   "outputs": [
    {
     "name": "stdout",
     "output_type": "stream",
     "text": [
      "Código de país                            0\n",
      "Nombre del país                           0\n",
      "Región                                    0\n",
      "Año                                       0\n",
      "CO2 (kt)                               2095\n",
      "CO2 per cápita (toneladas métricas)    2098\n",
      "dtype: int64\n"
     ]
    }
   ],
   "source": [
    "print(df.isna().sum())"
   ]
  },
  {
   "cell_type": "code",
   "execution_count": 11,
   "metadata": {},
   "outputs": [],
   "source": [
    "df_copy= df.copy()"
   ]
  },
  {
   "cell_type": "code",
   "execution_count": 12,
   "metadata": {},
   "outputs": [],
   "source": [
    "df_copy.dropna(inplace = True)"
   ]
  },
  {
   "cell_type": "code",
   "execution_count": null,
   "metadata": {},
   "outputs": [],
   "source": []
  },
  {
   "cell_type": "code",
   "execution_count": 13,
   "metadata": {},
   "outputs": [
    {
     "name": "stdout",
     "output_type": "stream",
     "text": [
      "(9029, 6)\n",
      "(11127, 6)\n"
     ]
    }
   ],
   "source": [
    "print(df_copy.shape)\n",
    "print(df.shape)"
   ]
  },
  {
   "cell_type": "code",
   "execution_count": 14,
   "metadata": {},
   "outputs": [
    {
     "name": "stdout",
     "output_type": "stream",
     "text": [
      "(9029,)\n"
     ]
    }
   ],
   "source": [
    "print(df_copy['Código de país'].shape)"
   ]
  },
  {
   "cell_type": "code",
   "execution_count": 15,
   "metadata": {},
   "outputs": [
    {
     "data": {
      "text/html": [
       "<div>\n",
       "<style scoped>\n",
       "    .dataframe tbody tr th:only-of-type {\n",
       "        vertical-align: middle;\n",
       "    }\n",
       "\n",
       "    .dataframe tbody tr th {\n",
       "        vertical-align: top;\n",
       "    }\n",
       "\n",
       "    .dataframe thead th {\n",
       "        text-align: right;\n",
       "    }\n",
       "</style>\n",
       "<table border=\"1\" class=\"dataframe\">\n",
       "  <thead>\n",
       "    <tr style=\"text-align: right;\">\n",
       "      <th></th>\n",
       "      <th>Código de país</th>\n",
       "      <th>Nombre del país</th>\n",
       "      <th>Región</th>\n",
       "      <th>Año</th>\n",
       "      <th>CO2 (kt)</th>\n",
       "      <th>CO2 per cápita (toneladas métricas)</th>\n",
       "      <th>clave_hash</th>\n",
       "    </tr>\n",
       "  </thead>\n",
       "  <tbody>\n",
       "    <tr>\n",
       "      <th>26</th>\n",
       "      <td>ABW</td>\n",
       "      <td>Aruba</td>\n",
       "      <td>América Latina y Caribe</td>\n",
       "      <td>1986</td>\n",
       "      <td>179,683</td>\n",
       "      <td>2.868319</td>\n",
       "      <td>910</td>\n",
       "    </tr>\n",
       "    <tr>\n",
       "      <th>27</th>\n",
       "      <td>ABW</td>\n",
       "      <td>Aruba</td>\n",
       "      <td>América Latina y Caribe</td>\n",
       "      <td>1987</td>\n",
       "      <td>447,374</td>\n",
       "      <td>7.234964</td>\n",
       "      <td>910</td>\n",
       "    </tr>\n",
       "    <tr>\n",
       "      <th>28</th>\n",
       "      <td>ABW</td>\n",
       "      <td>Aruba</td>\n",
       "      <td>América Latina y Caribe</td>\n",
       "      <td>1988</td>\n",
       "      <td>612,389</td>\n",
       "      <td>10.026508</td>\n",
       "      <td>910</td>\n",
       "    </tr>\n",
       "    <tr>\n",
       "      <th>29</th>\n",
       "      <td>ABW</td>\n",
       "      <td>Aruba</td>\n",
       "      <td>América Latina y Caribe</td>\n",
       "      <td>1989</td>\n",
       "      <td>649,059</td>\n",
       "      <td>10.634733</td>\n",
       "      <td>910</td>\n",
       "    </tr>\n",
       "    <tr>\n",
       "      <th>30</th>\n",
       "      <td>ABW</td>\n",
       "      <td>Aruba</td>\n",
       "      <td>América Latina y Caribe</td>\n",
       "      <td>1990</td>\n",
       "      <td>1.840,83</td>\n",
       "      <td>29.620165</td>\n",
       "      <td>910</td>\n",
       "    </tr>\n",
       "    <tr>\n",
       "      <th>...</th>\n",
       "      <td>...</td>\n",
       "      <td>...</td>\n",
       "      <td>...</td>\n",
       "      <td>...</td>\n",
       "      <td>...</td>\n",
       "      <td>...</td>\n",
       "      <td>...</td>\n",
       "    </tr>\n",
       "    <tr>\n",
       "      <th>156</th>\n",
       "      <td>AGO</td>\n",
       "      <td>Angola</td>\n",
       "      <td>África subsahariana</td>\n",
       "      <td>1960</td>\n",
       "      <td>550,05</td>\n",
       "      <td>0.104357</td>\n",
       "      <td>893</td>\n",
       "    </tr>\n",
       "    <tr>\n",
       "      <th>157</th>\n",
       "      <td>AGO</td>\n",
       "      <td>Angola</td>\n",
       "      <td>África subsahariana</td>\n",
       "      <td>1961</td>\n",
       "      <td>454,708</td>\n",
       "      <td>0.084718</td>\n",
       "      <td>893</td>\n",
       "    </tr>\n",
       "    <tr>\n",
       "      <th>158</th>\n",
       "      <td>AGO</td>\n",
       "      <td>Angola</td>\n",
       "      <td>África subsahariana</td>\n",
       "      <td>1962</td>\n",
       "      <td>1.180,77</td>\n",
       "      <td>0.216025</td>\n",
       "      <td>893</td>\n",
       "    </tr>\n",
       "    <tr>\n",
       "      <th>159</th>\n",
       "      <td>AGO</td>\n",
       "      <td>Angola</td>\n",
       "      <td>África subsahariana</td>\n",
       "      <td>1963</td>\n",
       "      <td>1.151,44</td>\n",
       "      <td>0.206877</td>\n",
       "      <td>893</td>\n",
       "    </tr>\n",
       "    <tr>\n",
       "      <th>160</th>\n",
       "      <td>AGO</td>\n",
       "      <td>Angola</td>\n",
       "      <td>África subsahariana</td>\n",
       "      <td>1964</td>\n",
       "      <td>1.224,78</td>\n",
       "      <td>0.216174</td>\n",
       "      <td>893</td>\n",
       "    </tr>\n",
       "  </tbody>\n",
       "</table>\n",
       "<p>100 rows × 7 columns</p>\n",
       "</div>"
      ],
      "text/plain": [
       "    Código de país Nombre del país                   Región   Año  CO2 (kt)  \\\n",
       "26             ABW           Aruba  América Latina y Caribe  1986   179,683   \n",
       "27             ABW           Aruba  América Latina y Caribe  1987   447,374   \n",
       "28             ABW           Aruba  América Latina y Caribe  1988   612,389   \n",
       "29             ABW           Aruba  América Latina y Caribe  1989   649,059   \n",
       "30             ABW           Aruba  América Latina y Caribe  1990  1.840,83   \n",
       "..             ...             ...                      ...   ...       ...   \n",
       "156            AGO          Angola      África subsahariana  1960    550,05   \n",
       "157            AGO          Angola      África subsahariana  1961   454,708   \n",
       "158            AGO          Angola      África subsahariana  1962  1.180,77   \n",
       "159            AGO          Angola      África subsahariana  1963  1.151,44   \n",
       "160            AGO          Angola      África subsahariana  1964  1.224,78   \n",
       "\n",
       "     CO2 per cápita (toneladas métricas)  clave_hash  \n",
       "26                              2.868319         910  \n",
       "27                              7.234964         910  \n",
       "28                             10.026508         910  \n",
       "29                             10.634733         910  \n",
       "30                             29.620165         910  \n",
       "..                                   ...         ...  \n",
       "156                             0.104357         893  \n",
       "157                             0.084718         893  \n",
       "158                             0.216025         893  \n",
       "159                             0.206877         893  \n",
       "160                             0.216174         893  \n",
       "\n",
       "[100 rows x 7 columns]"
      ]
     },
     "execution_count": 15,
     "metadata": {},
     "output_type": "execute_result"
    }
   ],
   "source": [
    "df_copy['clave_hash']=df_copy['Código de país'].apply(hash_function)\n",
    "\n",
    "df_copy.head(100)\n",
    "\n"
   ]
  },
  {
   "cell_type": "code",
   "execution_count": 16,
   "metadata": {},
   "outputs": [
    {
     "data": {
      "text/html": [
       "<div>\n",
       "<style scoped>\n",
       "    .dataframe tbody tr th:only-of-type {\n",
       "        vertical-align: middle;\n",
       "    }\n",
       "\n",
       "    .dataframe tbody tr th {\n",
       "        vertical-align: top;\n",
       "    }\n",
       "\n",
       "    .dataframe thead th {\n",
       "        text-align: right;\n",
       "    }\n",
       "</style>\n",
       "<table border=\"1\" class=\"dataframe\">\n",
       "  <thead>\n",
       "    <tr style=\"text-align: right;\">\n",
       "      <th></th>\n",
       "      <th>clave_hash</th>\n",
       "      <th>Código de país</th>\n",
       "      <th>Nombre del país</th>\n",
       "      <th>Región</th>\n",
       "    </tr>\n",
       "  </thead>\n",
       "  <tbody>\n",
       "    <tr>\n",
       "      <th>26</th>\n",
       "      <td>910</td>\n",
       "      <td>ABW</td>\n",
       "      <td>Aruba</td>\n",
       "      <td>América Latina y Caribe</td>\n",
       "    </tr>\n",
       "    <tr>\n",
       "      <th>87</th>\n",
       "      <td>870</td>\n",
       "      <td>AND</td>\n",
       "      <td>Andorra</td>\n",
       "      <td>Europa y Asia Central</td>\n",
       "    </tr>\n",
       "    <tr>\n",
       "      <th>104</th>\n",
       "      <td>858</td>\n",
       "      <td>AFG</td>\n",
       "      <td>Afganistán</td>\n",
       "      <td>Sur de Asia</td>\n",
       "    </tr>\n",
       "    <tr>\n",
       "      <th>156</th>\n",
       "      <td>893</td>\n",
       "      <td>AGO</td>\n",
       "      <td>Angola</td>\n",
       "      <td>África subsahariana</td>\n",
       "    </tr>\n",
       "    <tr>\n",
       "      <th>208</th>\n",
       "      <td>856</td>\n",
       "      <td>ALB</td>\n",
       "      <td>Albania</td>\n",
       "      <td>Europa y Asia Central</td>\n",
       "    </tr>\n",
       "    <tr>\n",
       "      <th>260</th>\n",
       "      <td>886</td>\n",
       "      <td>ARE</td>\n",
       "      <td>Emiratos Árabes Unidos</td>\n",
       "      <td>Oriente Medio y Norte de África</td>\n",
       "    </tr>\n",
       "    <tr>\n",
       "      <th>312</th>\n",
       "      <td>894</td>\n",
       "      <td>ARG</td>\n",
       "      <td>Argentina</td>\n",
       "      <td>América Latina y Caribe</td>\n",
       "    </tr>\n",
       "    <tr>\n",
       "      <th>396</th>\n",
       "      <td>918</td>\n",
       "      <td>ARM</td>\n",
       "      <td>Armenia</td>\n",
       "      <td>Europa y Asia Central</td>\n",
       "    </tr>\n",
       "    <tr>\n",
       "      <th>468</th>\n",
       "      <td>900</td>\n",
       "      <td>ATG</td>\n",
       "      <td>Antigua y Barbuda</td>\n",
       "      <td>América Latina y Caribe</td>\n",
       "    </tr>\n",
       "    <tr>\n",
       "      <th>520</th>\n",
       "      <td>951</td>\n",
       "      <td>AUS</td>\n",
       "      <td>Australia</td>\n",
       "      <td>Asia Oriental y Asia-Pacífico</td>\n",
       "    </tr>\n",
       "  </tbody>\n",
       "</table>\n",
       "</div>"
      ],
      "text/plain": [
       "     clave_hash Código de país         Nombre del país  \\\n",
       "26          910            ABW                   Aruba   \n",
       "87          870            AND                 Andorra   \n",
       "104         858            AFG              Afganistán   \n",
       "156         893            AGO                  Angola   \n",
       "208         856            ALB                 Albania   \n",
       "260         886            ARE  Emiratos Árabes Unidos   \n",
       "312         894            ARG               Argentina   \n",
       "396         918            ARM                 Armenia   \n",
       "468         900            ATG       Antigua y Barbuda   \n",
       "520         951            AUS               Australia   \n",
       "\n",
       "                              Región  \n",
       "26           América Latina y Caribe  \n",
       "87             Europa y Asia Central  \n",
       "104                      Sur de Asia  \n",
       "156              África subsahariana  \n",
       "208            Europa y Asia Central  \n",
       "260  Oriente Medio y Norte de África  \n",
       "312          América Latina y Caribe  \n",
       "396            Europa y Asia Central  \n",
       "468          América Latina y Caribe  \n",
       "520    Asia Oriental y Asia-Pacífico  "
      ]
     },
     "execution_count": 16,
     "metadata": {},
     "output_type": "execute_result"
    }
   ],
   "source": [
    "df_notdupli = df_copy[['clave_hash','Código de país','Nombre del país','Región']].drop_duplicates()\n",
    "\n",
    "df_notdupli.head(10)"
   ]
  },
  {
   "cell_type": "markdown",
   "metadata": {},
   "source": [
    "2. A partir del Dataframe creado en el punto 1, construir uno nuevo, que contenga solo los valores distintos de la tupla \"Clave_Hash\", \"Código de País\" , \"Nombre de país\" y \"Región\". Quitando luego del dataframe original los campos \"Código de País\" , \"Nombre de país\" y \"Región\""
   ]
  },
  {
   "cell_type": "code",
   "execution_count": 17,
   "metadata": {},
   "outputs": [
    {
     "name": "stdout",
     "output_type": "stream",
     "text": [
      "dsad<to\n"
     ]
    }
   ],
   "source": [
    "df_notdupli.drop(['Código de país','Región','Nombre del país'], axis=1)\n",
    "\n",
    "print('dsad<to')"
   ]
  },
  {
   "cell_type": "code",
   "execution_count": 18,
   "metadata": {},
   "outputs": [
    {
     "data": {
      "text/plain": [
       "910    5\n",
       "935    5\n",
       "951    4\n",
       "877    4\n",
       "931    4\n",
       "      ..\n",
       "981    1\n",
       "836    1\n",
       "847    1\n",
       "881    1\n",
       "965    1\n",
       "Name: clave_hash, Length: 108, dtype: int64"
      ]
     },
     "execution_count": 18,
     "metadata": {},
     "output_type": "execute_result"
    }
   ],
   "source": [
    "df_notdupli['clave_hash'].value_counts()"
   ]
  }
 ],
 "metadata": {
  "kernelspec": {
   "display_name": "Python 3.10.4 64-bit",
   "language": "python",
   "name": "python3"
  },
  "language_info": {
   "codemirror_mode": {
    "name": "ipython",
    "version": 3
   },
   "file_extension": ".py",
   "mimetype": "text/x-python",
   "name": "python",
   "nbconvert_exporter": "python",
   "pygments_lexer": "ipython3",
   "version": "3.10.4"
  },
  "vscode": {
   "interpreter": {
    "hash": "e6104bf604ca1a37923b4f279a3bc03307071c215727ed52dcf746e90ba65021"
   }
  }
 },
 "nbformat": 4,
 "nbformat_minor": 4
}
